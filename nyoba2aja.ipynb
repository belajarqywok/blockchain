{
 "cells": [
  {
   "cell_type": "markdown",
   "metadata": {},
   "source": [
    "<h1>BLOCKCHAIN</h1>\n",
    "\n",
    "\n",
    "<br>\n",
    "<p><b>Blockchain</b> adalah catatan transaksi digital berdasarkan strukturnya, di mana catatan individu, yang disebut blok, dihubungkan bersama dalam satu daftar, yang disebut chain (rantai).</p>\n",
    "<br>\n",
    "<p>Seluruh pengembangan proyek blockchain terdiri dari tiga komponen utama, yaitu</p>\n",
    "\n",
    "<ul>\n",
    "    <li><b>Client</b> -> Client/Klien adalah orang yang akan membeli barang dari vendor lain. Klien sendiri dapat menjadi vendor dan akan menerima uang dari orang lain terhadap barang yang dia suplai. Kami berasumsi di sini bahwa klien dapat menjadi pemasok dan penerima TPCoin. Jadi, kami akan membuat kelas klien dalam kode kami yang memiliki kemampuan untuk mengirim dan menerima uang.</li><br>\n",
    "    <li><b>Miner</b> -> Miner/Penambang adalah orang yang mengambil transaksi dari kumpulan transaksi dan mengumpulkannya dalam satu blok. Penambang harus memberikan bukti kerja yang valid untuk mendapatkan hadiah penambangan. Semua uang yang dikumpulkan penambang sebagai biaya akan dia simpan. Dia dapat membelanjakan uang itu untuk membeli barang atau jasa dari vendor terdaftar lainnya di jaringan, seperti yang dilakukan oleh Klien yang dijelaskan di atas.</li>\n",
    "    \n",
    "</ul>\n",
    "<br>\n",
    "<br>"
   ]
  },
  {
   "cell_type": "code",
   "execution_count": 14,
   "metadata": {},
   "outputs": [
    {
     "data": {
      "text/html": [
       "<img src=\"https://miro.medium.com/max/1400/0*EBXqB5wJTWFeaT04.gif\"/>"
      ],
      "text/plain": [
       "<IPython.core.display.Image object>"
      ]
     },
     "execution_count": 14,
     "metadata": {},
     "output_type": "execute_result"
    }
   ],
   "source": [
    "from IPython.display import Image\n",
    "from IPython.core.display import HTML \n",
    "Image(url=\"https://miro.medium.com/max/1400/0*EBXqB5wJTWFeaT04.gif\")"
   ]
  },
  {
   "cell_type": "markdown",
   "metadata": {},
   "source": [
    "<h2>1. Developing Client</h2>\n",
    "<p>Klien adalah seseorang yang memegang TPCoin dan mentransaksikannya untuk barang/jasa dari vendor lain di jaringan termasuk miliknya. Kita harus mendefinisikan kelas Klien untuk tujuan ini. Untuk membuat identifikasi unik global untuk klien, kami menggunakan PKI (Public Key Infrastructure). Dalam bab ini, mari kita bicarakan ini secara rinci.\n",
    "\n",
    "\n",
    "\n",
    "Klien harus dapat mengirim uang dari dompetnya ke orang lain yang dikenal. Demikian pula, klien harus dapat menerima uang dari pihak ketiga. Untuk membelanjakan uang, klien akan membuat transaksi yang menentukan nama pengirim dan jumlah yang harus dibayar. Untuk menerima uang, klien akan memberikan identitasnya kepada pihak ketiga pada dasarnya adalah pengirim uang. Kami tidak menyimpan jumlah saldo uang yang dimiliki klien di dompetnya. Selama transaksi, kami akan menghitung saldo aktual untuk memastikan bahwa klien memiliki saldo yang cukup untuk melakukan pembayaran.\n",
    "\n",
    "\n",
    "\n",
    "Untuk mengembangkan kelas Klien dan untuk sisa kode dalam proyek, kita perlu mengimpor banyak liblary Python. Ini tercantum di bawah ini</p>"
   ]
  },
  {
   "cell_type": "code",
   "execution_count": 7,
   "metadata": {},
   "outputs": [],
   "source": [
    "import hashlib\n",
    "import random\n",
    "import string\n",
    "import json\n",
    "import binascii\n",
    "import numpy as np\n",
    "import pandas as pd\n",
    "import pylab as pl\n",
    "import logging\n",
    "import datetime\n",
    "import collections\n",
    "\n",
    "# following imports are required by PKI\n",
    "import Crypto\n",
    "import Crypto.Random\n",
    "from Crypto.Hash import SHA\n",
    "from Crypto.PublicKey import RSA\n",
    "from Crypto.Signature import PKCS1_v1_5"
   ]
  },
  {
   "cell_type": "markdown",
   "metadata": {},
   "source": [
    "\n",
    "<br>\n",
    "<br>\n",
    "<h2>2. Client Class</h2>\n",
    "<p>class Client menghasilkan kunci pribadi dan publik dengan menggunakan algoritma RSA. Pembaca yang tertarik dapat merujuk ke tutorial ini untuk implementasi RSA. Selama inisialisasi objek, kita membuat kunci privat dan publik dan menyimpan nilainya dalam variabel instan.</p>\n",
    "\n",
    "```\n",
    "self._private_key = RSA.generate(1024, random)\n",
    "self._public_key = self._private_key.publickey()\n",
    "```\n",
    "<br><p><b>NOTE</b> : Perhatikan bahwa Anda tidak boleh kehilangan kunci pribadi Anda. Untuk penyimpanan catatan, kunci pribadi yang dihasilkan dapat disalin pada penyimpanan eksternal yang aman atau Anda cukup menuliskan representasi ASCII.\n",
    "\n",
    "Kunci publik yang dihasilkan akan digunakan sebagai identitas klien. Untuk ini, kami mendefinisikan properti yang disebut identitas yang mengembalikan representasi HEX dari kunci publik.</p>\n",
    "```\n",
    "@property\n",
    "   def identity(self):\n",
    "      return\n",
    "binascii.hexlify(self._public_key.exportKey(format='DER')).decode('ascii')\n",
    "```\n",
    "<br>\n",
    "<p>Identity unik untuk setiap Client dan dapat dibuat tersedia untuk umum. Siapa pun akan dapat mengirim mata uang virtual kepada Anda menggunakan identitas ini dan itu akan ditambahkan ke dompet Anda.</p>"
   ]
  },
  {
   "cell_type": "code",
   "execution_count": null,
   "metadata": {},
   "outputs": [],
   "source": [
    "class Client:\n",
    "   def __init__(self):\n",
    "      random = Crypto.Random.new().read\n",
    "      self._private_key = RSA.generate(1024, random)\n",
    "      self._public_key = self._private_key.publickey()\n",
    "      self._signer = PKCS1_v1_5.new(self._private_key)\n",
    "\n",
    "   @property\n",
    "   def identity(self):\n",
    "      return\n",
    "binascii.hexlify(self._public_key.exportKey(format='DER')).decode('ascii')"
   ]
  },
  {
   "cell_type": "markdown",
   "metadata": {},
   "source": [
    "<h3>Testing client</h3>"
   ]
  },
  {
   "cell_type": "code",
   "execution_count": null,
   "metadata": {},
   "outputs": [],
   "source": [
    "Dinesh = Client()\n",
    "print(Dinesh.identity)"
   ]
  },
  {
   "cell_type": "markdown",
   "metadata": {},
   "source": [
    "<p>di atas membuat instance dari Klien dan menetapkannya ke variabel Dinesh. Kami mencetak kunci publik Dinesh dengan memanggil metode identitasnya.</p>\n",
    "\n",
    "```\n",
    "30819f300d06092a864886f70d010101050003818d0030818902818100b547fafceeb131e07\n",
    "0166a6b23fec473cce22c3f55c35ce535b31d4c74754fecd820aa94c1166643a49ea5f49f72\n",
    "3181ff943eb3fdc5b2cb2db12d21c06c880ccf493e14dd3e93f3a9e175325790004954c34d3\n",
    "c7bc2ccc9f0eb5332014937f9e49bca9b7856d351a553d9812367dc8f2ac734992a4e6a6ff6\n",
    "6f347bd411d07f0203010001\n",
    "```"
   ]
  },
  {
   "cell_type": "markdown",
   "metadata": {},
   "source": [
    "<br>\n",
    "<br>\n",
    "<h2>3. Transaction Class</h2>\n",
    "<p>mari kita buat kelas Transaksi sehingga klien dapat mengirim uang kepada seseorang. Perhatikan bahwa klien dapat menjadi pengirim atau penerima uang. Ketika Anda ingin menerima uang, beberapa pengirim lain akan membuat transaksi dan menentukan alamat publik Anda di dalamnya. Kami mendefinisikan inisialisasi kelas transaksi sebagai berikut:</p>\n",
    "\n",
    "```\n",
    "def __init__(self, sender, recipient, value):\n",
    "   self.sender = sender\n",
    "   self.recipient = recipient\n",
    "   self.value = value\n",
    "   self.time = datetime.datetime.now()\n",
    "```\n",
    "<p>init mengambil tiga parameter - kunci publik pengirim, kunci publik penerima, dan jumlah yang akan dikirim. Ini disimpan dalam variabel instan untuk digunakan oleh metode lain. Selain itu, kami membuat satu variabel lagi untuk menyimpan waktu transaksi.\n",
    "\n",
    "\n",
    "\n",
    "Selanjutnya, kami menulis metode utilitas yang disebut to_dict yang menggabungkan keempat variabel instan yang disebutkan di atas dalam objek kamus. Ini hanya untuk menempatkan seluruh informasi transaksi yang dapat diakses melalui satu variabel.\n",
    "\n",
    "\n",
    "\n",
    "Seperti yang Anda ketahui dari tutorial sebelumnya bahwa blok pertama di blockchain adalah blok Genesis. Blok Genesis berisi transaksi pertama yang diprakarsai oleh pencipta blockchain. Identitas orang ini mungkin dirahasiakan seperti dalam kasus Bitcoin. Jadi pada saat transaksi pertama ini dibuat, pencipta boleh saja mengirimkan identitasnya sebagai Genesis. Jadi, saat membuat kamus, kami memeriksa apakah pengirimnya adalah Genesis dan jika demikian, kami hanya menetapkan beberapa nilai string ke variabel identitas; jika tidak, kami menetapkan identitas pengirim ke variabel identitas.</p>\n",
    "\n",
    "```\n",
    "if self.sender == \"Genesis\":\n",
    "   identity = \"Genesis\"\n",
    "else:\n",
    "   identity = self.sender.identity\n",
    "```\n",
    "\n",
    "<p>dengan construct dictionary</p>\n",
    "\n",
    "```\n",
    "return collections.OrderedDict(\n",
    "       {\n",
    "         'sender'    : identity,\n",
    "         'recipient' : self.recipient,\n",
    "         'value'     : self.value,\n",
    "         'time'      : self.time\n",
    "       }\n",
    ")\n",
    "```"
   ]
  },
  {
   "cell_type": "code",
   "execution_count": null,
   "metadata": {},
   "outputs": [],
   "source": [
    "def to_dict(self):\n",
    "   if self.sender == \"Genesis\":\n",
    "      identity = \"Genesis\"\n",
    "   else:\n",
    "      identity = self.sender.identity\n",
    "\n",
    "   return collections.OrderedDict(\n",
    "          {\n",
    "            'sender'    : identity,\n",
    "            'recipient' : self.recipient,\n",
    "            'value'     : self.value,\n",
    "            'time'      : self.time\n",
    "          }\n",
    "   )"
   ]
  },
  {
   "cell_type": "markdown",
   "metadata": {},
   "source": [
    "<p>Terakhir, kita akan menandatangani objek kamus ini menggunakan kunci pribadi pengirim. Seperti sebelumnya, kami menggunakan PKI bawaan dengan algoritma SHA. Tanda tangan yang dihasilkan didekodekan untuk mendapatkan representasi ASCII untuk dicetak dan disimpan di blockchain kami. Kode metode sign_transaction ditampilkan di sini</p>"
   ]
  },
  {
   "cell_type": "code",
   "execution_count": null,
   "metadata": {},
   "outputs": [],
   "source": [
    "def sign_transaction(self):\n",
    "   private_key = self.sender._private_key\n",
    "   signer = PKCS1_v1_5.new(private_key)\n",
    "   h = SHA.new(str(self.to_dict()).encode('utf8'))\n",
    "   return binascii.hexlify(signer.sign(h)).decode('ascii')"
   ]
  },
  {
   "cell_type": "markdown",
   "metadata": {},
   "source": [
    "<h3>Testing Transaction Class</h3>\n",
    "<p>Untuk tujuan ini, kami akan membuat dua pengguna, yang disebut Dinesh dan Ramesh. Dinesh akan mengirimkan 5 TPCoin ke Ramesh. Untuk ini pertama kami membuat klien yang disebut Dinesh dan Ramesh.</p>"
   ]
  },
  {
   "cell_type": "code",
   "execution_count": null,
   "metadata": {},
   "outputs": [],
   "source": [
    "Dinesh = Client()\n",
    "Ramesh = Client()"
   ]
  },
  {
   "cell_type": "markdown",
   "metadata": {},
   "source": [
    "<p>Ingatlah bahwa ketika Anda membuat instance kelas Klien, kunci publik dan pribadi yang unik untuk klien akan dibuat. Saat Dinesh mengirim pembayaran ke Ramesh, dia akan membutuhkan kunci publik Ramesh yang diperoleh dengan menggunakan properti identitas klien.\n",
    "\n",
    "\n",
    "\n",
    "Jadi, kami akan membuat instance transaksi menggunakan kode berikut:</p>"
   ]
  },
  {
   "cell_type": "code",
   "execution_count": null,
   "metadata": {},
   "outputs": [],
   "source": [
    "t = Transaction(\n",
    "   Dinesh,\n",
    "   Ramesh.identity,\n",
    "   5.0\n",
    ")"
   ]
  },
  {
   "cell_type": "markdown",
   "metadata": {},
   "source": [
    "<p><b>NOTE</b> : bahwa parameter pertama adalah pengirim, parameter kedua adalah kunci publik penerima dan parameter ketiga adalah jumlah yang akan ditransfer. Metode sign_transaction mengambil kunci pribadi pengirim dari parameter pertama untuk menyanyikan transaksi.\n",
    "\n",
    "\n",
    "\n",
    "Setelah objek transaksi dibuat, Anda akan menandatanganinya dengan memanggil metode sign_transaction-nya. Metode ini mengembalikan tanda tangan yang dihasilkan dalam format yang dapat dicetak. Kami membuat dan mencetak tanda tangan menggunakan dua baris kode berikut:</p>"
   ]
  },
  {
   "cell_type": "code",
   "execution_count": null,
   "metadata": {},
   "outputs": [],
   "source": [
    "signature = t.sign_transaction()\n",
    "print (signature) "
   ]
  },
  {
   "cell_type": "markdown",
   "metadata": {},
   "source": [
    "<p>output : </p>\n",
    "\n",
    "```\n",
    "7c7e3c97629b218e9ec6e86b01f9abd8e361fd69e7d373c38420790b655b9abe3b575e343c7\n",
    "13703ca1aee781acd7157a0624db3d57d7c2f1172730ee3f45af943338157f899965856f6b0\n",
    "0e34db240b62673ad5a08c8e490f880b568efbc36035cae2e748f1d802d5e8e66298be826f5\n",
    "c6363dc511222fb2416036ac04eb972\n",
    "```\n"
   ]
  },
  {
   "cell_type": "markdown",
   "metadata": {},
   "source": [
    "<br>\n",
    "<br>\n",
    "<h2>4. Multiple Transactions</h2>\n",
    "<p>Transaksi yang dilakukan oleh berbagai klien diantrekan dalam sistem; penambang mengambil transaksi dari antrian ini dan menambahkannya ke blok. Mereka kemudian akan menambang blok dan penambang yang menang akan memiliki hak istimewa untuk menambahkan blok ke blockchain dan dengan demikian mendapatkan sejumlah uang untuk dirinya sendiri.\n",
    "\n",
    "\n",
    "\n",
    "Kami akan menjelaskan proses penambangan ini nanti ketika kami membahas pembuatan blockchain. Sebelum kita menulis kode untuk beberapa transaksi, mari kita tambahkan fungsi utilitas kecil untuk mencetak isi dari transaksi yang diberikan.</p>\n",
    "\n",
    "<h3>Displaying Transaction</h3>\n",
    "<p>Fungsi display_transaction menerima satu parameter tipe transaksi. Objek kamus dalam transaksi yang diterima disalin ke variabel sementara yang disebut dict dan menggunakan kunci kamus, berbagai nilai dicetak di konsol.</p>"
   ]
  },
  {
   "cell_type": "code",
   "execution_count": null,
   "metadata": {},
   "outputs": [],
   "source": [
    "def display_transaction(transaction):\n",
    "   #for transaction in transactions:\n",
    "   dict = transaction.to_dict()\n",
    "   print (\"sender: \" + dict['sender'])\n",
    "   print ('-----')\n",
    "   print (\"recipient: \" + dict['recipient'])\n",
    "   print ('-----')\n",
    "   print (\"value: \" + str(dict['value']))\n",
    "   print ('-----')\n",
    "   print (\"time: \" + str(dict['time']))\n",
    "   print ('-----')"
   ]
  },
  {
   "cell_type": "markdown",
   "metadata": {},
   "source": [
    "<h3>Transaction Queue</h3>\n",
    "<p>Untuk membuat antrian, kami mendeklarasikan variabel daftar global yang disebut transaksi sebagai berikut:</p>"
   ]
  },
  {
   "cell_type": "code",
   "execution_count": null,
   "metadata": {},
   "outputs": [],
   "source": [
    "transactions = []"
   ]
  },
  {
   "cell_type": "markdown",
   "metadata": {},
   "source": [
    "\n",
    "<h3>Creating Multiple Clients</h3>\n",
    "<p>Now, we will start creating transactions. First, we will create four clients who will send money to each other for obtaining various services or goods from others.</p>"
   ]
  },
  {
   "cell_type": "code",
   "execution_count": null,
   "metadata": {},
   "outputs": [],
   "source": [
    "Dinesh = Client()\n",
    "Ramesh = Client()\n",
    "Seema = Client()\n",
    "Vijay = Client()"
   ]
  },
  {
   "cell_type": "markdown",
   "metadata": {},
   "source": [
    "<p>Pada titik ini memiliki empat klien bernama Dinesh, Ramesh, Seema, dan Vijay. Saat ini kami berasumsi bahwa masing-masing klien ini menyimpan beberapa TPCoin di dompet mereka untuk bertransaksi. Identitas masing-masing klien ini akan ditentukan dengan menggunakan properti identitas dari objek-objek ini.</p>"
   ]
  },
  {
   "cell_type": "markdown",
   "metadata": {},
   "source": [
    "<h3>Creating First Transaction</h3>"
   ]
  },
  {
   "cell_type": "code",
   "execution_count": null,
   "metadata": {},
   "outputs": [],
   "source": [
    "t1 = Transaction(\n",
    "   Dinesh,\n",
    "   Ramesh.identity,\n",
    "   15.0\n",
    ")"
   ]
  },
  {
   "cell_type": "markdown",
   "metadata": {},
   "source": [
    "Dalam transaksi ini Dinesh mengirimkan 5 TPCoin ke Ramesh. Agar transaksi berhasil, kita harus memastikan bahwa Dinesh memiliki cukup uang di dompetnya untuk pembayaran ini. Perhatikan bahwa, kita memerlukan transaksi genesis untuk memulai sirkulasi TPCoin di sistem. Anda akan menulis kode transaksi untuk transaksi genesis ini segera setelah Anda membaca.\n",
    "\n",
    "\n",
    "\n",
    "Ini akan menandatangani transaksi menggunakan kunci pribadi Dinesh dan menambahkannya ke antrian transaksi sebagai berikut:"
   ]
  },
  {
   "cell_type": "code",
   "execution_count": null,
   "metadata": {},
   "outputs": [],
   "source": [
    "t1.sign_transaction()\n",
    "transactions.append(t1)"
   ]
  },
  {
   "cell_type": "markdown",
   "metadata": {},
   "source": [
    "Setelah transaksi pertama dilakukan oleh Dinesh, kami akan membuat beberapa transaksi lagi antara klien yang berbeda yang kami buat di atas."
   ]
  },
  {
   "cell_type": "markdown",
   "metadata": {},
   "source": [
    "\n",
    "<h3>Adding More Transactions</h3>\n",
    "\n",
    "sekarang kita akan membuat beberapa transaksi lagi, setiap transaksi memberikan beberapa TPCoin ke pihak lain. Ketika seseorang membelanjakan uang, dia tidak perlu memeriksa saldo yang cukup di dompet ini. Penambang bagaimanapun akan memvalidasi setiap transaksi untuk saldo yang dimiliki pengirim saat memulai transaksi.\n",
    "\n",
    "Jika saldo tidak mencukupi, penambang akan menandai transaksi ini sebagai tidak valid dan tidak akan menambahkannya ke blok ini.\n",
    "\n",
    "Kode berikut membuat dan menambahkan sembilan transaksi lagi ke antrian kami."
   ]
  },
  {
   "cell_type": "code",
   "execution_count": null,
   "metadata": {},
   "outputs": [],
   "source": [
    "t2 = Transaction(\n",
    "   Dinesh,\n",
    "   Seema.identity,\n",
    "   6.0\n",
    ")\n",
    "t2.sign_transaction()\n",
    "transactions.append(t2)\n",
    "t3 = Transaction(\n",
    "   Ramesh,\n",
    "   Vijay.identity,\n",
    "   2.0\n",
    ")\n",
    "t3.sign_transaction()\n",
    "transactions.append(t3)\n",
    "t4 = Transaction(\n",
    "   Seema,\n",
    "   Ramesh.identity,\n",
    "   4.0\n",
    ")\n",
    "t4.sign_transaction()\n",
    "transactions.append(t4)\n",
    "t5 = Transaction(\n",
    "   Vijay,\n",
    "   Seema.identity,\n",
    "   7.0\n",
    ")\n",
    "t5.sign_transaction()\n",
    "transactions.append(t5)\n",
    "t6 = Transaction(\n",
    "   Ramesh,\n",
    "   Seema.identity,\n",
    "   3.0\n",
    ")\n",
    "t6.sign_transaction()\n",
    "transactions.append(t6)\n",
    "t7 = Transaction(\n",
    "   Seema,\n",
    "   Dinesh.identity,\n",
    "   8.0\n",
    ")\n",
    "t7.sign_transaction()\n",
    "transactions.append(t7)\n",
    "t8 = Transaction(\n",
    "   Seema,\n",
    "   Ramesh.identity,\n",
    "   1.0\n",
    ")\n",
    "t8.sign_transaction()\n",
    "transactions.append(t8)\n",
    "t9 = Transaction(\n",
    "   Vijay,\n",
    "   Dinesh.identity,\n",
    "   5.0\n",
    ")\n",
    "t9.sign_transaction()\n",
    "transactions.append(t9)\n",
    "t10 = Transaction(\n",
    "   Vijay,\n",
    "   Ramesh.identity,\n",
    "   3.0\n",
    ")\n",
    "t10.sign_transaction()\n",
    "transactions.append(t10)"
   ]
  },
  {
   "cell_type": "markdown",
   "metadata": {},
   "source": [
    "Saat Anda menjalankan kode di atas, Anda akan memiliki sepuluh transaksi dalam antrian bagi para penambang untuk membuat blok mereka."
   ]
  },
  {
   "cell_type": "markdown",
   "metadata": {},
   "source": [
    "\n",
    "<h3>Dumping Transactions</h3>\n",
    "\n",
    "As a blockchain manager, you may periodically like to review the contents of transaction queue. For this purpose, you can use the display_transaction function that we developed earlier. To dump all transactions in the queue, just iterate the transactions list and for each referenced transaction, call the display_transaction function as shown here"
   ]
  },
  {
   "cell_type": "code",
   "execution_count": null,
   "metadata": {},
   "outputs": [],
   "source": [
    "for transaction in transactions:\n",
    "   display_transaction (transaction)\n",
    "   print ('--------------')"
   ]
  },
  {
   "cell_type": "markdown",
   "metadata": {},
   "source": [
    "Transaksi dipisahkan oleh garis putus-putus untuk membedakan. Jika Anda menjalankan kode di atas, Anda akan melihat daftar transaksi seperti yang ditunjukkan di bawah ini\n",
    "```\n",
    "sender:\n",
    "30819f300d06092a864886f70d010101050003818d0030818902818100bb064c99c49214\n",
    "4a9f463480273aba93ac1db1f0da3cb9f3c1f9d058cf499fd8e54d244da0a8dd6ddd329e\n",
    "c86794b04d773eb4841c9f935ea4d9ccc2821c7a1082d23b6c928d59863407f52fa05d8b\n",
    "47e5157f8fe56c2ce3279c657f9c6a80500073b0be8093f748aef667c03e64f04f84d311\n",
    "c4d866c12d79d3fc3034563dfb0203010001\n",
    "-----\n",
    "recipient:\n",
    "30819f300d06092a864886f70d010101050003818d0030818902818100be93b516b28c6e\n",
    "674abe7abdb11ce0fdf5bb728b75216b73f37a6432e4b402b3ad8139b8c0ba541a72c8ad\n",
    "d126b6e1a1308fb98b727beb63c6060356bb177bb7d54b54dbe87aee7353d0a6baa93977\n",
    "04de625d1836d3f42c7ee5683f6703259592cc24b09699376807f28fe0e00ff882974484\n",
    "d805f874260dfc2d1627473b910203010001\n",
    "-----\n",
    "value: 15.0\n",
    "-----\n",
    "time: 2019-01-14 16:18:01.859915\n",
    "-----\n",
    "--------------\n",
    "sender:\n",
    "30819f300d06092a864886f70d010101050003818d0030818902818100bb064c99c49214\n",
    "4a9f463480273aba93ac1db1f0da3cb9f3c1f9d058cf499fd8e54d244da0a8dd6ddd329e\n",
    "c86794b04d773eb4841c9f935ea4d9ccc2821c7a1082d23b6c928d59863407f52fa05d8b\n",
    "47e5157f8fe56c2ce3279c657f9c6a80500073b0be8093f748aef667c03e64f04f84d311\n",
    "c4d866c12d79d3fc3034563dfb0203010001\n",
    "-----\n",
    "recipient:\n",
    "30819f300d06092a864886f70d010101050003818d0030818902818100a070c82b34ae14\n",
    "3cbe59b3a2afde7186e9d5bc274955d8112d87a00256a35369acc4d0edfe65e8f9dc93fb\n",
    "d9ee74b9e7ea12334da38c8c9900e6ced1c4ce93f86e06611e656521a1eab561892b7db0\n",
    "961b4f212d1fd5b5e49ae09cf8c603a068f9b723aa8a651032ff6f24e5de00387e4d0623\n",
    "75799742a359b8f22c5362e5650203010001\n",
    "-----\n",
    "value: 6.0\n",
    "-----\n",
    "time: 2019-01-14 16:18:01.860966\n",
    "-----\n",
    "--------------\n",
    "sender:\n",
    "30819f300d06092a864886f70d010101050003818d0030818902818100be93b516b28c6e\n",
    "674abe7abdb11ce0fdf5bb728b75216b73f37a6432e4b402b3ad8139b8c0ba541a72c8ad\n",
    "d126b6e1a1308fb98b727beb63c6060356bb177bb7d54b54dbe87aee7353d0a6baa93977\n",
    "04de625d1836d3f42c7ee5683f6703259592cc24b09699376807f28fe0e00ff882974484\n",
    "d805f874260dfc2d1627473b910203010001\n",
    "-----\n",
    "recipient:\n",
    "30819f300d06092a864886f70d010101050003818d0030818902818100cba097c0854876\n",
    "f41338c62598c658f545182cfa4acebce147aedf328181f9c4930f14498fd03c0af6b0cc\n",
    "e25be99452a81df4fa30a53eddbb7bb7b203adf8764a0ccd9db6913a576d68d642d8fd47\n",
    "452590137869c25d9ff83d68ebe6d616056a8425b85b52e69715b8b85ae807b84638d8f0\n",
    "0e321b65e4c33acaf6469e18e30203010001\n",
    "-----\n",
    "value: 2.0\n",
    "-----\n",
    "time: 2019-01-14 16:18:01.861958\n",
    "-----\n",
    "--------------\n",
    "```\n",
    "\n",
    "Untuk singkatnya, saya hanya mencetak beberapa transaksi pertama dalam daftar. Pada kode di atas, kami mencetak semua transaksi yang dimulai dengan transaksi pertama kecuali transaksi genesis yang tidak pernah ditambahkan ke daftar ini. Karena transaksi ditambahkan ke blok secara berkala, Anda biasanya akan tertarik untuk melihat hanya daftar transaksi yang belum ditambang. Dalam hal ini, Anda perlu membuat loop for yang sesuai untuk beralih melalui transaksi yang belum ditambang"
   ]
  },
  {
   "cell_type": "markdown",
   "metadata": {},
   "source": [
    "<br>\n",
    "<br>\n",
    "\n",
    "<h2>5. Block Class</h2>\n",
    "\n",
    "Sebuah blok terdiri dari berbagai jumlah transaksi. Untuk kesederhanaan, dalam kasus kami, kami akan mengasumsikan bahwa blok terdiri dari sejumlah transaksi tetap, yaitu tiga dalam kasus ini. Karena blok perlu menyimpan daftar ketiga transaksi ini, kami akan mendeklarasikan variabel instan yang disebutVerified_transactions sebagai berikut :\n",
    "\n",
    "```\n",
    "self.verified_transactions = []\n",
    "```\n",
    "menamai variabel ini sebagai Verified_transactions untuk menunjukkan bahwa hanya transaksi valid yang diverifikasi yang akan ditambahkan ke blok. Setiap blok juga menyimpan nilai hash dari blok sebelumnya, sehingga rantai blok menjadi tidak berubah.\n",
    "\n",
    "\n",
    "\n",
    "Untuk menyimpan hash sebelumnya, kami mendeklarasikan variabel instan sebagai berikut :\n",
    "\n",
    "```\n",
    "self.previous_block_hash = \"\"\n",
    "```\n",
    "\n",
    "mendeklarasikan satu variabel lagi yang disebut Nonce untuk menyimpan nonce yang dibuat oleh penambang selama proses penambangan.\n",
    "\n",
    "```\n",
    "self.Nonce = \"\"\n",
    "```"
   ]
  },
  {
   "cell_type": "code",
   "execution_count": null,
   "metadata": {},
   "outputs": [],
   "source": [
    "class Block:\n",
    "   def __init__(self):\n",
    "      self.verified_transactions = []\n",
    "      self.previous_block_hash = \"\"\n",
    "      self.Nonce = \"\""
   ]
  },
  {
   "cell_type": "markdown",
   "metadata": {},
   "source": [
    "Karena setiap blok membutuhkan nilai hash blok sebelumnya, kami mendeklarasikan variabel global yang disebut last_block_hash sebagai berikut :\n",
    "\n",
    "```\n",
    "last_block_hash = \"\"\n",
    "```"
   ]
  },
  {
   "cell_type": "markdown",
   "metadata": {},
   "source": [
    "<br>\n",
    "<br>\n",
    "\n",
    "<h2>6. Creating Genesis Block</h2>\n",
    "\n",
    "Kami berasumsi bahwa pencetus TPCoin awalnya memberikan 500 TPCoin kepada klien yang dikenal Dinesh. Untuk ini, dia pertama kali membuat instance Dinesh"
   ]
  },
  {
   "cell_type": "code",
   "execution_count": null,
   "metadata": {},
   "outputs": [],
   "source": [
    "Dinesh = Client()"
   ]
  },
  {
   "cell_type": "markdown",
   "metadata": {},
   "source": [
    "Kami kemudian membuat transaksi genesis dan mengirim 500 TPCoin ke alamat publik Dinesh"
   ]
  },
  {
   "cell_type": "code",
   "execution_count": null,
   "metadata": {},
   "outputs": [],
   "source": [
    "t0 = Transaction (\n",
    "   \"Genesis\",\n",
    "   Dinesh.identity,\n",
    "   500.0\n",
    ")"
   ]
  },
  {
   "cell_type": "markdown",
   "metadata": {},
   "source": [
    "Sekarang membuat instance dari kelas Block dan menyebutnya block0."
   ]
  },
  {
   "cell_type": "code",
   "execution_count": null,
   "metadata": {},
   "outputs": [],
   "source": [
    "block0 = Block()"
   ]
  },
  {
   "cell_type": "markdown",
   "metadata": {},
   "source": [
    "menginisialisasi variabel instance Previous_block_hash dan Nonce ke None, karena ini adalah transaksi pertama yang disimpan di blockchain."
   ]
  },
  {
   "cell_type": "markdown",
   "metadata": {},
   "source": [
    "block0.previous_block_hash = None\n",
    "Nonce = None"
   ]
  },
  {
   "cell_type": "markdown",
   "metadata": {},
   "source": [
    "Selanjutnya, kami akan menambahkan t0 transaksi di atas ke daftar Verified_transactions yang disimpan di dalam blok"
   ]
  },
  {
   "cell_type": "code",
   "execution_count": null,
   "metadata": {},
   "outputs": [],
   "source": [
    "block0.verified_transactions.append (t0)"
   ]
  },
  {
   "cell_type": "markdown",
   "metadata": {},
   "source": [
    "Pada titik ini, blok sepenuhnya diinisialisasi dan siap ditambahkan ke blockchain kami. Kami akan membuat blockchain untuk tujuan ini. Sebelum kita menambahkan blok ke blockchain, kita akan meng-hash blok tersebut dan menyimpan nilainya dalam variabel global yang disebut last_block_hash yang telah kita deklarasikan sebelumnya. Nilai ini akan digunakan oleh penambang berikutnya di bloknya.\n",
    "\n",
    "\n",
    "\n",
    "Kami menggunakan dua baris pengkodean berikut untuk hashing blok dan menyimpan digest value"
   ]
  },
  {
   "cell_type": "code",
   "execution_count": null,
   "metadata": {},
   "outputs": [],
   "source": [
    "digest = hash (block0)\n",
    "last_block_hash = digest"
   ]
  },
  {
   "cell_type": "markdown",
   "metadata": {},
   "source": [
    "\n",
    "<br>\n",
    "<br>\n",
    "\n",
    "<h2>7. Creating Blockchain</h2>\n",
    "\n",
    "Blockchain berisi daftar blok yang dirantai satu sama lain. Untuk menyimpan seluruh daftar, kami akan membuat variabel daftar yang disebut TPCoins"
   ]
  },
  {
   "cell_type": "code",
   "execution_count": null,
   "metadata": {},
   "outputs": [],
   "source": [
    "TPCoins = []"
   ]
  },
  {
   "cell_type": "markdown",
   "metadata": {},
   "source": [
    "ini akan menulis metode utilitas yang disebut dump_blockchain untuk membuang konten seluruh blockchain. Kami pertama-tama mencetak panjang blockchain sehingga kami tahu berapa banyak blok yang saat ini ada di blockchain.\n",
    "\n",
    "```\n",
    "def dump_blockchain (self):\n",
    "   print (\"Number of blocks in the chain: \" + str(len (self)))\n",
    "```\n",
    "\n",
    "<b>NOTE</b> : bahwa seiring berjalannya waktu, jumlah blok di blockchain akan sangat tinggi untuk dicetak. Jadi, ketika Anda mencetak konten blockchain, Anda mungkin harus memutuskan kisaran yang ingin Anda periksa. Dalam kode di bawah ini, kami telah mencetak seluruh blockchain karena kami tidak akan menambahkan terlalu banyak blok dalam demo saat ini.\n",
    "\n",
    "\n",
    "\n",
    "Untuk beralih melalui rantai, kami menyiapkan loop for sebagai berikut:\n",
    "\n",
    "```\n",
    "for x in range (len(TPCoins)):\n",
    "   block_temp = TPCoins[x] \n",
    "```\n",
    "\n",
    "Setiap blok yang direferensikan disalin ke variabel sementara yang disebut block_temp.\n",
    "\n",
    "Kami mencetak nomor blok sebagai judul untuk setiap blok. Perhatikan bahwa angka akan dimulai dengan nol, blok pertama adalah blok genesis yang diberi nomor nol.\n",
    "\n",
    "```\n",
    "print (\"block # \" + str(x))\n",
    "```\n",
    "\n",
    "Di dalam setiap blok, kami telah menyimpan daftar tiga transaksi (kecuali blok genesis) dalam variabel yang disebutVerified_transactions. Kami mengulangi daftar ini dalam for loop dan untuk setiap item yang diambil, kami memanggil fungsi display_transaction untuk menampilkan detail transaksi.\n",
    "\n",
    "```\n",
    "for transaction in block_temp.verified_transactions:\n",
    "   display_transaction (transaction)\n",
    "```"
   ]
  },
  {
   "cell_type": "code",
   "execution_count": null,
   "metadata": {},
   "outputs": [],
   "source": [
    "def dump_blockchain (self):\n",
    "   print (\"Number of blocks in the chain: \" + str(len (self)))\n",
    "   for x in range (len(TPCoins)):\n",
    "      block_temp = TPCoins[x]\n",
    "      print (\"block # \" + str(x))\n",
    "      for transaction in block_temp.verified_transactions:\n",
    "         display_transaction (transaction)\n",
    "         print ('--------------')\n",
    "      print ('=====================================')"
   ]
  },
  {
   "cell_type": "markdown",
   "metadata": {},
   "source": [
    "<b>NOTE</b> : bahwa di sini kita telah menyisipkan pemisah pada titik yang sesuai dalam kode untuk membatasi blok dan transaksi di dalamnya."
   ]
  },
  {
   "cell_type": "markdown",
   "metadata": {},
   "source": [
    "\n",
    "<br>\n",
    "<br>\n",
    "\n",
    "<h2>8. Adding Genesis Block</h2>\n",
    "\n",
    "Menambahkan blok ke blockchain melibatkan penambahan blok yang dibuat ke daftar TPCoin kami"
   ]
  },
  {
   "cell_type": "code",
   "execution_count": null,
   "metadata": {},
   "outputs": [],
   "source": [
    "TPCoins.append(block0)"
   ]
  },
  {
   "cell_type": "markdown",
   "metadata": {},
   "source": [
    "<b>NOTE</b> : bahwa tidak seperti blok lainnya dalam sistem, blok genesis hanya berisi satu transaksi yang dimulai oleh pencetus sistem TPCoins. Sekarang, Anda akan membuang konten blockchain dengan memanggil fungsi global kami dump_blockchain"
   ]
  },
  {
   "cell_type": "code",
   "execution_count": null,
   "metadata": {},
   "outputs": [],
   "source": [
    "dump_blockchain(TPCoins)"
   ]
  },
  {
   "cell_type": "markdown",
   "metadata": {},
   "source": [
    "output :\n",
    "\n",
    "```\n",
    "Number of blocks in the chain: 1\n",
    "block # 0\n",
    "sender: Genesis\n",
    "-----\n",
    "recipient:\n",
    "30819f300d06092a864886f70d010101050003818d0030818902818100ed272b52ccb539\n",
    "e2cd779c6cc10ed1dfadf5d97c6ab6de90ed0372b2655626fb79f62d0e01081c163b0864\n",
    "cc68d426bbe9438e8566303bb77414d4bfcaa3468ab7febac099294de10273a816f7047d\n",
    "4087b4bafa11f141544d48e2f10b842cab91faf33153900c7bf6c08c9e47a7df8aa7e60d\n",
    "c9e0798fb2ba3484bbdad2e4430203010001\n",
    "-----\n",
    "value: 500.0\n",
    "-----\n",
    "time: 2019-01-14 16:18:02.042739\n",
    "-----\n",
    "--------------\n",
    "=====================================\n",
    "```\n",
    "\n",
    "Pada titik ini sistem blockchain siap digunakan. Kami sekarang akan memungkinkan klien yang tertarik untuk menjadi penambang dengan memberi mereka fungsi penambangan"
   ]
  },
  {
   "cell_type": "markdown",
   "metadata": {},
   "source": [
    "\n",
    "<br>\n",
    "<br>\n",
    "\n",
    "<h2>9. Creating Miners</h2>\n",
    "\n",
    "Untuk mengaktifkan penambangan, kita perlu mengembangkan fungsi penambangan. Fungsionalitas penambangan perlu menghasilkan digest pada string pesan yang diberikan dan memberikan bukti kerja\n",
    "\n",
    "<h3>Message Digest Function</h3>\n",
    "\n",
    "menulis fungsi utilitas yang disebut sha256 untuk membuat digest pada pesan yang diberikan"
   ]
  },
  {
   "cell_type": "code",
   "execution_count": null,
   "metadata": {},
   "outputs": [],
   "source": [
    "def sha256(message):\n",
    "    return hashlib.sha256(message.encode('ascii')).hexdigest()"
   ]
  },
  {
   "cell_type": "markdown",
   "metadata": {},
   "source": [
    "Fungsi sha256 mengambil pesan sebagai parameter, mengkodekannya ke ASCII, menghasilkan intisari heksadesimal dan mengembalikan nilai ke pemanggil.\n",
    "\n",
    "<h3>Mining Function</h3>\n",
    "\n",
    "sekarang mengembangkan fungsi tambang yang menerapkan strategi penambangan sendiri. Strategi kami dalam hal ini adalah menghasilkan hash pada pesan yang diberikan yang diawali dengan angka 1 yang diberikan. Jumlah 1 yang diberikan ditentukan sebagai parameter untuk fungsi tambang yang ditentukan sebagai tingkat kesulitan.\n",
    "\n",
    "\n",
    "\n",
    "Misalnya, jika Anda menentukan tingkat kesulitan 2, hash yang dihasilkan pada pesan tertentu harus dimulai dengan dua angka 1 - seperti 11xxxxxxxx. Jika tingkat kesulitannya adalah 3, hash yang dihasilkan harus dimulai dengan tiga angka 1 - seperti 111xxxxxxxxx. Mengingat persyaratan ini, kami sekarang akan mengembangkan fungsi penambangan seperti yang ditunjukkan pada langkah-langkah yang diberikan di bawah ini.\n",
    "\n",
    "- Langkah 1\n",
    "\n",
    "  Fungsi penambangan mengambil dua parameter - pesan dan tingkat kesulitan..\n",
    "  ```\n",
    "  def mine(message, difficulty=1):\n",
    "  ```\n",
    "  \n",
    "- Langkah 2\n",
    "  \n",
    "  Tingkat kesulitan harus lebih besar atau sama dengan 1, kami memastikan ini dengan pernyataan tegas berikut:\n",
    "  ```\n",
    "  assert difficulty >= 1\n",
    "  ```\n",
    "  \n",
    "- Langkah 3\n",
    "  \n",
    "  Kami membuat variabel awalan menggunakan tingkat kesulitan yang ditetapkan.\n",
    "  ```\n",
    "  prefix = '1' * difficulty\n",
    "  ```\n",
    "  \n",
    "<b>NOTE</b> : jika tingkat kesulitannya adalah 2, awalannya adalah \"11\" dan jika tingkat kesulitannya adalah 3, awalannya adalah \"111\", dan seterusnya. Kami akan memeriksa apakah awalan ini ada di intisari pesan yang dihasilkan. Untuk mencerna pesan itu sendiri, kami menggunakan dua baris kode berikut:\n",
    "\n",
    "```\n",
    "for i in range(1000):\n",
    "   digest = sha256(str(hash(message)) + str(i))\n",
    "```\n",
    "\n",
    "menambahkan nomor baru i ke hash pesan di setiap iterasi dan menghasilkan digest baru pada pesan gabungan. Saat input ke fungsi sha256 berubah di setiap iterasi, nilai digest juga akan berubah. Kami memeriksa apakah nilai digest ini memiliki awalan yang ditetapkan di atas.\n",
    "\n",
    "```\n",
    "if digest.startswith(prefix):\n",
    "```\n",
    "\n",
    "  "
   ]
  },
  {
   "cell_type": "code",
   "execution_count": null,
   "metadata": {},
   "outputs": [],
   "source": [
    "def mine(message, difficulty=1):\n",
    "   assert difficulty >= 1\n",
    "   prefix = '1' * difficulty\n",
    "   for i in range(1000):\n",
    "      digest = sha256(str(hash(message)) + str(i))\n",
    "      if digest.startswith(prefix):\n",
    "         print (\"after \" + str(i) + \" iterations found nonce: \"+ digest)\n",
    "      return digest"
   ]
  },
  {
   "cell_type": "markdown",
   "metadata": {},
   "source": [
    "ini telah menambahkan pernyataan print yang mencetak nilai digest dan jumlah iterasi yang diperlukan untuk memenuhi kondisi sebelum kembali dari fungsi.\n",
    "\n",
    "\n",
    "<h3>Testing Mining Function</h3>\n",
    "\n",
    "Untuk menguji fungsi penambangan kami, cukup jalankan pernyataan berikut :"
   ]
  },
  {
   "cell_type": "code",
   "execution_count": null,
   "metadata": {},
   "outputs": [],
   "source": [
    "mine(\"test message\", 2)"
   ]
  },
  {
   "cell_type": "markdown",
   "metadata": {},
   "source": [
    "Ketika Anda menjalankan kode di atas, Anda akan melihat output yang mirip dengan yang di bawah ini :\n",
    "\n",
    "```\n",
    "after 138 iterations found nonce:\n",
    "11008a740eb2fa6bf8d55baecda42a41993ca65ce66b2d3889477e6bfad1484c\n",
    "```\n",
    "\n",
    "<b>NOTE</b> : bahwa digest yang dihasilkan dimulai dengan \"11\". Jika Anda mengubah tingkat kesulitan menjadi 3, digest yang dihasilkan akan dimulai dengan “111”, dan tentu saja, mungkin akan memerlukan lebih banyak iterasi. Seperti yang Anda lihat, penambang dengan kekuatan pemrosesan lebih akan dapat menambang pesan yang diberikan sebelumnya. Begitulah cara para penambang bersaing satu sama lain untuk mendapatkan pendapatan mereka."
   ]
  },
  {
   "cell_type": "markdown",
   "metadata": {},
   "source": [
    "\n",
    "<br>\n",
    "<br>\n",
    "\n",
    "<h2>10. Adding Blocks</h2>\n",
    "\n",
    "Setiap penambang akan mengambil transaksi dari kumpulan transaksi yang dibuat sebelumnya. Untuk melacak jumlah pesan yang sudah ditambang, kita harus membuat variabel global"
   ]
  },
  {
   "cell_type": "code",
   "execution_count": null,
   "metadata": {},
   "outputs": [],
   "source": [
    "last_transaction_index = 0"
   ]
  },
  {
   "cell_type": "markdown",
   "metadata": {},
   "source": [
    "sekarang akan memiliki penambang pertama kami menambahkan blok ke blockchain"
   ]
  },
  {
   "cell_type": "markdown",
   "metadata": {},
   "source": [
    "<h3>Adding First Block</h3>\n",
    "\n",
    "Untuk menambahkan blok baru, pertama-tama kita membuat instance dari kelas Block.\n",
    "\n",
    "```\n",
    "block = Block()\n",
    "```\n",
    "ambil 3 transaksi teratas dari antrian\n",
    "\n",
    "```\n",
    "for i in range(3):\n",
    "   temp_transaction = transactions[last_transaction_index]\n",
    "   # validate transaction\n",
    "```\n",
    "\n",
    "Sebelum menambahkan transaksi ke blok, penambang akan memverifikasi validitas transaksi. Validitas transaksi diverifikasi dengan menguji kesetaraan hash yang diberikan oleh pengirim terhadap hash yang dihasilkan oleh penambang menggunakan kunci publik pengirim. Selain itu, penambang akan memverifikasi bahwa pengirim memiliki saldo yang cukup untuk membayar transaksi saat ini.\n",
    "\n",
    "Untuk singkatnya, kami belum menyertakan fungsi ini dalam tutorial. Setelah transaksi divalidasi, kami menambahkannya ke daftarVerified_transactions di instance blok.\n",
    "\n",
    "```\n",
    "block.verified_transactions.append (temp_transaction)\n",
    "```\n",
    "\n",
    "naikkan indeks transaksi terakhir sehingga penambang berikutnya akan mengambil transaksi berikutnya dalam antrian.\n",
    "\n",
    "```\n",
    "last_transaction_index += 1\n",
    "```\n",
    "\n",
    "tambahkan tepat tiga transaksi ke blok. Setelah ini selesai, kami akan menginisialisasi sisa variabel instan dari kelas Block. Kami pertama-tama menambahkan hash dari block terakhir.\n",
    "\n",
    "```\n",
    "block.previous_block_hash = last_block_hash\n",
    "```\n",
    "\n",
    "Selanjutnya kita menambang blok tersebut dengan tingkat kesulitan 2\n",
    "\n",
    "```\n",
    "block.Nonce = mine (block, 2)\n",
    "```\n",
    "\n",
    "<b>NOTE</b> : bahwa parameter pertama untuk fungsi tambang adalah objek biner. Kami sekarang hash seluruh blok dan membuat intisari di atasnya.\n",
    "\n",
    "```\n",
    "digest = hash (block)\n",
    "```\n",
    "\n",
    "Akhirnya, kami menambahkan blok yang dibuat ke blockchain dan menginisialisasi ulang variabel global last_block_hash untuk digunakan di block berikutnya"
   ]
  },
  {
   "cell_type": "code",
   "execution_count": null,
   "metadata": {},
   "outputs": [],
   "source": [
    "block = Block()\n",
    "for i in range(3):\n",
    "   temp_transaction = transactions[last_transaction_index]\n",
    "   # validate transaction\n",
    "   # if valid\n",
    "   block.verified_transactions.append (temp_transaction)\n",
    "   last_transaction_index += 1\n",
    "\n",
    "block.previous_block_hash = last_block_hash\n",
    "block.Nonce = mine (block, 2)\n",
    "digest = hash (block)\n",
    "TPCoins.append (block)\n",
    "last_block_hash = digest"
   ]
  },
  {
   "cell_type": "markdown",
   "metadata": {},
   "source": [
    "\n",
    "<h3>Adding More Blocks</h3>\n",
    "\n",
    "sekarang akan menambahkan dua blok lagi ke blockchain kami. Kode untuk menambahkan dua blok berikutnya diberikan di bawah ini"
   ]
  },
  {
   "cell_type": "code",
   "execution_count": null,
   "metadata": {},
   "outputs": [],
   "source": [
    "# Miner 2 adds a block\n",
    "block = Block()\n",
    "\n",
    "for i in range(3):\n",
    "   temp_transaction = transactions[last_transaction_index]\n",
    "   # validate transaction\n",
    "   # if valid\n",
    "   block.verified_transactions.append (temp_transaction)\n",
    "   last_transaction_index += 1\n",
    "block.previous_block_hash = last_block_hash\n",
    "block.Nonce = mine (block, 2)digest = hash (block)\n",
    "TPCoins.append (block)last_block_hash = digest\n",
    "# Miner 3 adds a block\n",
    "block = Block()\n",
    "\n",
    "for i in range(3):\n",
    "   temp_transaction = transactions[last_transaction_index]\n",
    "   #display_transaction (temp_transaction)\n",
    "   # validate transaction\n",
    "   # if valid\n",
    "   block.verified_transactions.append (temp_transaction)\n",
    "   last_transaction_index += 1\n",
    "\n",
    "block.previous_block_hash = last_block_hash\n",
    "block.Nonce = mine (block, 2)\n",
    "digest = hash (block)\n",
    "\n",
    "TPCoins.append (block)\n",
    "last_block_hash = digest"
   ]
  },
  {
   "cell_type": "markdown",
   "metadata": {},
   "source": [
    "Saat Anda menambahkan dua blok ini, Anda juga akan melihat jumlah iterasi yang diperlukan untuk menemukan Nonce. Pada titik ini, blockchain kami terdiri dari 4 blok termasuk blok genesis.\n",
    "\n",
    "<h3>Dumping Entire Blockchain</h3>\n",
    "\n",
    "memverifikasi isi seluruh blockchain menggunakan pernyataan berikut :\n"
   ]
  },
  {
   "cell_type": "code",
   "execution_count": null,
   "metadata": {},
   "outputs": [],
   "source": [
    "dump_blockchain(TPCoins)"
   ]
  },
  {
   "cell_type": "markdown",
   "metadata": {},
   "source": [
    "output :\n",
    "\n",
    "```\n",
    "Number of blocks in the chain: 4\n",
    "block # 0\n",
    "sender: Genesis\n",
    "-----\n",
    "recipient:\n",
    "30819f300d06092a864886f70d010101050003818d0030818902818100ed272b52ccb539e2cd779\n",
    "c6cc10ed1dfadf5d97c6ab6de90ed0372b2655626fb79f62d0e01081c163b0864cc68d426bbe943\n",
    "8e8566303bb77414d4bfcaa3468ab7febac099294de10273a816f7047d4087b4bafa11f141544d4\n",
    "8e2f10b842cab91faf33153900c7bf6c08c9e47a7df8aa7e60dc9e0798fb2ba3484bbdad2e44302\n",
    "03010001\n",
    "-----\n",
    "value: 500.0\n",
    "-----\n",
    "time: 2019-01-14 16:18:02.042739\n",
    "-----\n",
    "--------------\n",
    "=====================================\n",
    "block # 1\n",
    "sender:\n",
    "30819f300d06092a864886f70d010101050003818d0030818902818100bb064c99c492144a9f463\n",
    "480273aba93ac1db1f0da3cb9f3c1f9d058cf499fd8e54d244da0a8dd6ddd329ec86794b04d773e\n",
    "b4841c9f935ea4d9ccc2821c7a1082d23b6c928d59863407f52fa05d8b47e5157f8fe56c2ce3279\n",
    "c657f9c6a80500073b0be8093f748aef667c03e64f04f84d311c4d866c12d79d3fc3034563dfb02\n",
    "03010001\n",
    "-----\n",
    "recipient:\n",
    "30819f300d06092a864886f70d010101050003818d0030818902818100be93b516b28c6e674abe7\n",
    "abdb11ce0fdf5bb728b75216b73f37a6432e4b402b3ad8139b8c0ba541a72c8add126b6e1a1308f\n",
    "b98b727beb63c6060356bb177bb7d54b54dbe87aee7353d0a6baa9397704de625d1836d3f42c7ee\n",
    "5683f6703259592cc24b09699376807f28fe0e00ff882974484d805f874260dfc2d1627473b9102\n",
    "03010001\n",
    "-----\n",
    "value: 15.0\n",
    "-----\n",
    "time: 2019-01-14 16:18:01.859915\n",
    "-----\n",
    "--------------\n",
    "sender:\n",
    "30819f300d06092a864886f70d010101050003818d0030818902818100bb064c99c492144a9f463\n",
    "480273aba93ac1db1f0da3cb9f3c1f9d058cf499fd8e54d244da0a8dd6ddd329ec86794b04d773e\n",
    "b4841c9f935ea4d9ccc2821c7a1082d23b6c928d59863407f52fa05d8b47e5157f8fe56c2ce3279\n",
    "c657f9c6a80500073b0be8093f748aef667c03e64f04f84d311c4d866c12d79d3fc3034563dfb02\n",
    "03010001\n",
    "-----\n",
    "recipient:\n",
    "30819f300d06092a864886f70d010101050003818d0030818902818100a070c82b34ae143cbe59b\n",
    "3a2afde7186e9d5bc274955d8112d87a00256a35369acc4d0edfe65e8f9dc93fbd9ee74b9e7ea12\n",
    "334da38c8c9900e6ced1c4ce93f86e06611e656521a1eab561892b7db0961b4f212d1fd5b5e49ae\n",
    "09cf8c603a068f9b723aa8a651032ff6f24e5de00387e4d062375799742a359b8f22c5362e56502\n",
    "03010001\n",
    "-----\n",
    "value: 6.0\n",
    "-----\n",
    "time: 2019-01-14 16:18:01.860966\n",
    "-----\n",
    "--------------\n",
    "sender:\n",
    "30819f300d06092a864886f70d010101050003818d0030818902818100be93b516b28c6e674abe7\n",
    "abdb11ce0fdf5bb728b75216b73f37a6432e4b402b3ad8139b8c0ba541a72c8add126b6e1a1308f\n",
    "b98b727beb63c6060356bb177bb7d54b54dbe87aee7353d0a6baa9397704de625d1836d3f42c7ee\n",
    "5683f6703259592cc24b09699376807f28fe0e00ff882974484d805f874260dfc2d1627473b9102\n",
    "03010001\n",
    "-----\n",
    "recipient:\n",
    "30819f300d06092a864886f70d010101050003818d0030818902818100cba097c0854876f41338c\n",
    "62598c658f545182cfa4acebce147aedf328181f9c4930f14498fd03c0af6b0cce25be99452a81d\n",
    "f4fa30a53eddbb7bb7b203adf8764a0ccd9db6913a576d68d642d8fd47452590137869c25d9ff83\n",
    "d68ebe6d616056a8425b85b52e69715b8b85ae807b84638d8f00e321b65e4c33acaf6469e18e302\n",
    "03010001\n",
    "-----\n",
    "value: 2.0\n",
    "-----\n",
    "time: 2019-01-14 16:18:01.861958\n",
    "-----\n",
    "--------------\n",
    "=====================================\n",
    "block # 2\n",
    "sender:\n",
    "30819f300d06092a864886f70d010101050003818d0030818902818100a070c82b34ae143cbe59b\n",
    "3a2afde7186e9d5bc274955d8112d87a00256a35369acc4d0edfe65e8f9dc93fbd9ee74b9e7ea12\n",
    "334da38c8c9900e6ced1c4ce93f86e06611e656521a1eab561892b7db0961b4f212d1fd5b5e49ae\n",
    "09cf8c603a068f9b723aa8a651032ff6f24e5de00387e4d062375799742a359b8f22c5362e56502\n",
    "03010001\n",
    "-----\n",
    "recipient:\n",
    "30819f300d06092a864886f70d010101050003818d0030818902818100be93b516b28c6e674abe7\n",
    "abdb11ce0fdf5bb728b75216b73f37a6432e4b402b3ad8139b8c0ba541a72c8add126b6e1a1308f\n",
    "b98b727beb63c6060356bb177bb7d54b54dbe87aee7353d0a6baa9397704de625d1836d3f42c7ee\n",
    "5683f6703259592cc24b09699376807f28fe0e00ff882974484d805f874260dfc2d1627473b9102\n",
    "03010001\n",
    "-----\n",
    "value: 4.0\n",
    "-----\n",
    "time: 2019-01-14 16:18:01.862946\n",
    "-----\n",
    "--------------\n",
    "sender:\n",
    "30819f300d06092a864886f70d010101050003818d0030818902818100cba097c0854876f41338c\n",
    "62598c658f545182cfa4acebce147aedf328181f9c4930f14498fd03c0af6b0cce25be99452a81d\n",
    "f4fa30a53eddbb7bb7b203adf8764a0ccd9db6913a576d68d642d8fd47452590137869c25d9ff83\n",
    "d68ebe6d616056a8425b85b52e69715b8b85ae807b84638d8f00e321b65e4c33acaf6469e18e302\n",
    "03010001\n",
    "-----\n",
    "recipient:\n",
    "30819f300d06092a864886f70d010101050003818d0030818902818100a070c82b34ae143cbe59b\n",
    "3a2afde7186e9d5bc274955d8112d87a00256a35369acc4d0edfe65e8f9dc93fbd9ee74b9e7ea12\n",
    "334da38c8c9900e6ced1c4ce93f86e06611e656521a1eab561892b7db0961b4f212d1fd5b5e49ae\n",
    "09cf8c603a068f9b723aa8a651032ff6f24e5de00387e4d062375799742a359b8f22c5362e56502\n",
    "03010001\n",
    "-----\n",
    "value: 7.0\n",
    "-----\n",
    "time: 2019-01-14 16:18:01.863932\n",
    "-----\n",
    "--------------\n",
    "sender:\n",
    "30819f300d06092a864886f70d010101050003818d0030818902818100be93b516b28c6e674abe7\n",
    "abdb11ce0fdf5bb728b75216b73f37a6432e4b402b3ad8139b8c0ba541a72c8add126b6e1a1308f\n",
    "b98b727beb63c6060356bb177bb7d54b54dbe87aee7353d0a6baa9397704de625d1836d3f42c7ee\n",
    "5683f6703259592cc24b09699376807f28fe0e00ff882974484d805f874260dfc2d1627473b9102\n",
    "03010001\n",
    "-----\n",
    "recipient:\n",
    "30819f300d06092a864886f70d010101050003818d0030818902818100a070c82b34ae143cbe59b\n",
    "3a2afde7186e9d5bc274955d8112d87a00256a35369acc4d0edfe65e8f9dc93fbd9ee74b9e7ea12\n",
    "334da38c8c9900e6ced1c4ce93f86e06611e656521a1eab561892b7db0961b4f212d1fd5b5e49ae\n",
    "09cf8c603a068f9b723aa8a651032ff6f24e5de00387e4d062375799742a359b8f22c5362e56502\n",
    "03010001\n",
    "-----\n",
    "value: 3.0\n",
    "-----\n",
    "time: 2019-01-14 16:18:01.865099\n",
    "-----\n",
    "--------------\n",
    "=====================================\n",
    "block # 3\n",
    "sender:\n",
    "30819f300d06092a864886f70d010101050003818d0030818902818100a070c82b34ae143cbe59b\n",
    "3a2afde7186e9d5bc274955d8112d87a00256a35369acc4d0edfe65e8f9dc93fbd9ee74b9e7ea12\n",
    "334da38c8c9900e6ced1c4ce93f86e06611e656521a1eab561892b7db0961b4f212d1fd5b5e49ae\n",
    "09cf8c603a068f9b723aa8a651032ff6f24e5de00387e4d062375799742a359b8f22c5362e56502\n",
    "03010001\n",
    "-----\n",
    "recipient:\n",
    "30819f300d06092a864886f70d010101050003818d0030818902818100bb064c99c492144a9f463\n",
    "480273aba93ac1db1f0da3cb9f3c1f9d058cf499fd8e54d244da0a8dd6ddd329ec86794b04d773e\n",
    "b4841c9f935ea4d9ccc2821c7a1082d23b6c928d59863407f52fa05d8b47e5157f8fe56c2ce3279\n",
    "c657f9c6a80500073b0be8093f748aef667c03e64f04f84d311c4d866c12d79d3fc3034563dfb02\n",
    "03010001\n",
    "-----\n",
    "value: 8.0\n",
    "-----\n",
    "time: 2019-01-14 16:18:01.866219\n",
    "-----\n",
    "--------------\n",
    "sender:\n",
    "30819f300d06092a864886f70d010101050003818d0030818902818100a070c82b34ae143cbe59b\n",
    "3a2afde7186e9d5bc274955d8112d87a00256a35369acc4d0edfe65e8f9dc93fbd9ee74b9e7ea12\n",
    "334da38c8c9900e6ced1c4ce93f86e06611e656521a1eab561892b7db0961b4f212d1fd5b5e49ae\n",
    "09cf8c603a068f9b723aa8a651032ff6f24e5de00387e4d062375799742a359b8f22c5362e56502\n",
    "03010001\n",
    "-----\n",
    "recipient:\n",
    "30819f300d06092a864886f70d010101050003818d0030818902818100be93b516b28c6e674abe7\n",
    "abdb11ce0fdf5bb728b75216b73f37a6432e4b402b3ad8139b8c0ba541a72c8add126b6e1a1308f\n",
    "b98b727beb63c6060356bb177bb7d54b54dbe87aee7353d0a6baa9397704de625d1836d3f42c7ee\n",
    "5683f6703259592cc24b09699376807f28fe0e00ff882974484d805f874260dfc2d1627473b9102\n",
    "03010001\n",
    "-----\n",
    "value: 1.0\n",
    "-----\n",
    "time: 2019-01-14 16:18:01.867223\n",
    "-----\n",
    "--------------\n",
    "sender:\n",
    "30819f300d06092a864886f70d010101050003818d0030818902818100cba097c0854876f41338c\n",
    "62598c658f545182cfa4acebce147aedf328181f9c4930f14498fd03c0af6b0cce25be99452a81d\n",
    "f4fa30a53eddbb7bb7b203adf8764a0ccd9db6913a576d68d642d8fd47452590137869c25d9ff83\n",
    "d68ebe6d616056a8425b85b52e69715b8b85ae807b84638d8f00e321b65e4c33acaf6469e18e302\n",
    "03010001\n",
    "-----\n",
    "recipient: \n",
    "30819f300d06092a864886f70d010101050003818d0030818902818100bb064c99c492144a9f463\n",
    "480273aba93ac1db1f0da3cb9f3c1f9d058cf499fd8e54d244da0a8dd6ddd329ec86794b04d773e\n",
    "b4841c9f935ea4d9ccc2821c7a1082d23b6c928d59863407f52fa05d8b47e5157f8fe56c2ce3279\n",
    "c657f9c6a80500073b0be8093f748aef667c03e64f04f84d311c4d866c12d79d3fc3034563dfb02\n",
    "03010001\n",
    "-----\n",
    "value: 5.0\n",
    "-----\n",
    "time: 2019-01-14 16:18:01.868241\n",
    "-----\n",
    "--------------\n",
    "=====================================\n",
    "```"
   ]
  },
  {
   "cell_type": "markdown",
   "metadata": {},
   "source": [
    "\n",
    "\n",
    "<br>\n",
    "<br>\n",
    "\n",
    "<h2>11. Scope</h2>\n",
    "\n",
    "kita telah belajar bagaimana membangun sebuah proyek blockchain dengan Python. Ada banyak area di mana Anda perlu menambahkan fungsionalitas lebih lanjut ke proyek ini.\n",
    "\n",
    "Misalnya, perlu menulis fungsi untuk mengelola antrian transaksi. Setelah transaksi ditambang dan blok yang ditambang diterima oleh sistem, mereka tidak perlu disimpan lagi.\n",
    "\n",
    "Selain itu, para penambang tentu akan lebih memilih untuk mengambil transaksi dengan biaya tertinggi. Pada saat yang sama, Anda harus memastikan bahwa transaksi dengan biaya rendah atau tanpa biaya tidak akan kelaparan selamanya.\n",
    "\n",
    "Anda perlu mengembangkan algoritma untuk mengelola antrian. ini tidak menyertakan kode antarmuka klien. Anda perlu mengembangkan ini untuk klien normal dan penambang. Proyek blockchain yang lengkap akan mengalami beberapa baris kode lagi dan berada di luar cakupan ini.\n"
   ]
  },
  {
   "cell_type": "code",
   "execution_count": null,
   "metadata": {},
   "outputs": [],
   "source": []
  }
 ],
 "metadata": {
  "kernelspec": {
   "display_name": "Python 3",
   "language": "python",
   "name": "python3"
  },
  "language_info": {
   "codemirror_mode": {
    "name": "ipython",
    "version": 3
   },
   "file_extension": ".py",
   "mimetype": "text/x-python",
   "name": "python",
   "nbconvert_exporter": "python",
   "pygments_lexer": "ipython3",
   "version": "3.8.5"
  }
 },
 "nbformat": 4,
 "nbformat_minor": 4
}
